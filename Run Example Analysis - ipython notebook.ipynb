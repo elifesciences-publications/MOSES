{
 "cells": [
  {
   "cell_type": "markdown",
   "metadata": {},
   "source": [
    "This is a walkthrough notebook for illustrating the functionality of the library functions. At the same time, it highlights the key steps in the analysis presented in the BioArxiv paper.\n",
    "\n",
    "You can download example videos used in the paper at the following Google Drive Link:\n",
    "https://drive.google.com/drive/folders/0BwFVL6r9ww5BaTh6NExLR1JMUXM\n",
    "organised into two folders,\n",
    "    0% FBS - for no serum videos\n",
    "    5% FBS - for added serum videos\n",
    "    \n",
    "In the following we assumed you have downloaded and saved the videofile, 'c_EPC2(G)_CP-A(R)_KSFM+RPMI_5_Fast GFP.tif_R-G.tif' into the root folder of the repository. We also use Python 2.7."
   ]
  },
  {
   "cell_type": "markdown",
   "metadata": {},
   "source": [
    "### Load Libraries\n",
    "\n",
    "We will first load some required libraries."
   ]
  },
  {
   "cell_type": "code",
   "execution_count": null,
   "metadata": {
    "collapsed": true
   },
   "outputs": [],
   "source": [
    "from scipy.misc import imsave\n",
    "import pylab as plt \n",
    "import scipy.io as spio\n",
    "import numpy as np\n",
    "from skimage.filters import gaussian\n",
    "\n",
    "# These are from MOSES.\n",
    "from Optical_Flow_Tracking.superpixel_track import compute_grayscale_vid_superpixel_tracks\n",
    "from Utility_Functions.file_io import read_multiimg_PIL\n",
    "from Visualisation_Tools.track_plotting import plot_tracks\n",
    "from Track_Filtering.filter_meantracks_superpixels import filter_red_green_tracks\n",
    "from Motion_Analysis.mesh_statistics_tools import construct_MOSES_mesh, from_neighbor_list_to_graph, compute_MOSES_mesh_strain_curve, compute_motion_saliency_map, compute_boundary_formation_index, compute_MOSES_motion_stability_index, compute_max_vccf_cells_before_after_gap, compute_mesh_disorder, compute_spatial_correlation_function, compute_mesh_disorder_index\n",
    "from Motion_Analysis.wound_close_sweepline_area_segmentation import wound_sweep_area_segmentation\n",
    "from Visualisation_Tools.mesh_visualisation import visualise_mesh"
   ]
  },
  {
   "cell_type": "markdown",
   "metadata": {},
   "source": [
    "### Step 0: Read Video\n",
    "\n",
    "Note: Functionality in the library is only provided to read videos as multi-page tiffs. For additional formats such as .mp4, .avi etc. please refer to the excellent moviepy library which can be installed through conda or pip."
   ]
  },
  {
   "cell_type": "code",
   "execution_count": null,
   "metadata": {
    "collapsed": true
   },
   "outputs": [],
   "source": [
    "\"\"\"\n",
    "1. Specify input file location and read the multipage .tif video.\n",
    "\"\"\"\n",
    "\n",
    "infile = 'c_EPC2(G)_CP-A(R)_KSFM+RPMI_5_Fast GFP.tif_R-G.tif'\n",
    "\n",
    "print 'reading .tif video ...'\n",
    "\n",
    "vidstack = read_multiimg_PIL(infile)\n",
    "_, n_rows, n_cols, _ = vidstack.shape\n"
   ]
  },
  {
   "cell_type": "markdown",
   "metadata": {},
   "source": [
    "### Step 1: Motion Extraction\n",
    "\n",
    "Next we define some recommended parameters for extracting motion with optical flow to produce superpixel tracks."
   ]
  },
  {
   "cell_type": "code",
   "execution_count": null,
   "metadata": {
    "collapsed": true
   },
   "outputs": [],
   "source": [
    "#==============================================================================\n",
    "#   Defining some motion extraction default params, (these work for a lot of videos particularly the optical flow params.)  \n",
    "#==============================================================================\n",
    "    \n",
    "# optical flow tracking parameters (doesn't really matter a lot, c.f. OpenCV for details of Farneback optical flow)\n",
    "optical_flow_params = dict(pyr_scale=0.5, levels=3, winsize=15, iterations=3, poly_n=5, poly_sigma=1.2, flags=0)\n",
    "\n",
    "# number of superpixels\n",
    "n_spixels = 1000"
   ]
  },
  {
   "cell_type": "code",
   "execution_count": null,
   "metadata": {
    "collapsed": true
   },
   "outputs": [],
   "source": [
    "\"\"\"\n",
    "2. Extract global motion in superpixel tracks with optical flow algorithm, one set of tracks for each relevant color channel.\n",
    "\n",
    "*MAY BE SLOW ... *, wait a few minutes.\n",
    "\n",
    "\"\"\"\n",
    "print 'extracting superpixel tracks from video, can be slow...'\n",
    "meantracks_r = compute_grayscale_vid_superpixel_tracks(vidstack[:,:,:,0], optical_flow_params, n_spixels)\n",
    "meantracks_g = compute_grayscale_vid_superpixel_tracks(vidstack[:,:,:,1], optical_flow_params, n_spixels)\n",
    "\n",
    "# save the output, to avoid recomputing later:\n",
    "savetracksmat = ('meantracks_'+infile).replace('.tif', '.mat')\n",
    "spio.savemat(savetracksmat, {'meantracks_r':meantracks_r, \n",
    "                             'meantracks_g':meantracks_g})"
   ]
  },
  {
   "cell_type": "markdown",
   "metadata": {},
   "source": [
    "We can have visualize the extracted motion tracks to check whether they are correct qualitatively using the provided plot_tracks script."
   ]
  },
  {
   "cell_type": "code",
   "execution_count": null,
   "metadata": {
    "collapsed": true
   },
   "outputs": [],
   "source": [
    "# used to plot matplotlib figures with no boundaries with the following code snippet.\n",
    "width = float(n_cols)\n",
    "height = float(n_rows)\n",
    "\n",
    "# visualize the tracks along with first frame, you might notice 'contamination' of tracks, we can clean with up with post track filtering\n",
    "fig = plt.figure()\n",
    "fig.set_size_inches(width/height, 1, forward=False)\n",
    "ax = plt.Axes(fig, [0., 0., 1., 1.])\n",
    "ax.set_axis_off()\n",
    "fig.add_axes(ax)\n",
    "ax.imshow(vidstack[0])\n",
    "plot_tracks(meantracks_r, ax, color='r', lw=.2)\n",
    "plot_tracks(meantracks_g, ax, color='g', lw=.2)\n",
    "ax.set_xlim([0, n_cols])\n",
    "ax.set_ylim([n_rows, 0])\n",
    "ax.grid('off')\n",
    "ax.axis('off')\n",
    "fig.savefig(('tracksimg-no-filt_'+infile).replace('.tif', '.png'), dpi=height)\n",
    "plt.show()"
   ]
  },
  {
   "cell_type": "markdown",
   "metadata": {},
   "source": [
    "The extracted motion tracks may be noisy. In the post-processing steps we aim to clean the tracks up by retaining only the superpixel tracks relevant to each initial object of interest here, the respective red and green epithelial sheets.\n",
    "\n",
    "**Note**: this process is specific for such two cell population assays. You can clean the tracks in other ways for other assays e.g. through image segmentation of the objects and keeping only the tracks that cover the objects of interest."
   ]
  },
  {
   "cell_type": "code",
   "execution_count": null,
   "metadata": {
    "collapsed": true
   },
   "outputs": [],
   "source": [
    "\"\"\"\n",
    "3. Post Filtering of Superpixel Tracks.\n",
    "\"\"\"\n",
    "print 'post filtering tracks for epithelial sheet migration videos, can be slow...'\n",
    "\n",
    "# frame2 is the maximum frame number which we estimate the initially moving superpixels to determine which superpixel tracks belong to the initial epithelial sheets.\n",
    "meantracks_r, meantracks_g = filter_red_green_tracks(meantracks_r, meantracks_g, img_shape=(n_rows, n_cols), frame2=1)\n",
    "\n",
    "\n",
    "fig = plt.figure()\n",
    "fig.set_size_inches(width/height, 1, forward=False)\n",
    "ax = plt.Axes(fig, [0., 0., 1., 1.])\n",
    "ax.set_axis_off()\n",
    "fig.add_axes(ax)\n",
    "ax.imshow(vidstack[0])\n",
    "plot_tracks(meantracks_r, ax, color='r', lw=.2)\n",
    "plot_tracks(meantracks_g, ax, color='g', lw=.2)\n",
    "ax.set_xlim([0, n_cols])\n",
    "ax.set_ylim([n_rows, 0])\n",
    "ax.grid('off')\n",
    "ax.axis('off')\n",
    "fig.savefig(('tracksimg-filt_'+infile).replace('.tif', '.png'), dpi=height)\n",
    "plt.show()\n",
    "\n",
    "\n",
    "#  save the improved tracks, now we only use these for all downstream analysis e.g. to compute statistics etc.\n",
    "savetracksmat = ('meantracks-filt_'+infile).replace('.tif', '.mat')\n",
    "spio.savemat(savetracksmat, {'meantracks_r':meantracks_r,\n",
    "                             'meantracks_g':meantracks_g})"
   ]
  },
  {
   "cell_type": "markdown",
   "metadata": {},
   "source": [
    "### 2. Forming the MOSES Mesh from Superpixel Tracks\n",
    "\n",
    "A key novelty of MOSES is the formation of a mesh from superpixel tracks to account for local collective dynamics as well as to reduce noise. Different meshes can be specified limited only by the definition of 'neighbour'. In the paper we define the neighbourhood as the radially closest neighbours up to a radial euclidean distance threshold to each superpixel based on their initial position in frame 0.\n",
    "\n",
    "We show how to compute this definition below and visualize a select frame here frame 20 as illustration. We also show how to compute the local averaged mesh strain."
   ]
  },
  {
   "cell_type": "code",
   "execution_count": null,
   "metadata": {
    "collapsed": true
   },
   "outputs": [],
   "source": [
    "# we can load the saved improved tracks without executing the previous steps.\n",
    "# example of loading up the saved .mat object \n",
    "meantracks_r = spio.loadmat(('meantracks-filt_'+infile).replace('.tif', '.mat'))['meantracks_r']\n",
    "meantracks_g = spio.loadmat(('meantracks-filt_'+infile).replace('.tif', '.mat'))['meantracks_g']\n",
    "    \n",
    "# get the average superpixel size. (this is effectively the resolution of the tracking and used again and again to set automatic thresholds.). It is therefore very useful to compute this from the very outset.\n",
    "spixel_size = meantracks_r[1,0,1] - meantracks_r[1,0,0]\n",
    "\n",
    "\"\"\"\n",
    "4. MOSES mesh computation, we compute a mesh for each, and visualise the state of the mesh at frame 20 as example. \n",
    "\"\"\"\n",
    "print 'Computing MOSES Mesh ...'\n",
    "MOSES_mesh_strain_time_r, MOSES_mesh_neighborlist_r = construct_MOSES_mesh(meantracks_r, dist_thresh=1.2, spixel_size=spixel_size)\n",
    "MOSES_mesh_strain_time_g, MOSES_mesh_neighborlist_g = construct_MOSES_mesh(meantracks_g, dist_thresh=1.2, spixel_size=spixel_size)\n",
    "\n",
    "# visualise the two meshes independently by exploiting networkx for a chosen frame .e.g. 20, first turn the neighborlist into a networkx graph object.\n",
    "mesh_frame20_networkx_G_red = from_neighbor_list_to_graph(meantracks_r, MOSES_mesh_neighborlist_r, 20)\n",
    "mesh_frame20_networkx_G_green = from_neighbor_list_to_graph(meantracks_g, MOSES_mesh_neighborlist_g, 20)\n",
    "\n",
    "# save the mesh visualization with no borders. \n",
    "width = float(n_cols)\n",
    "height = float(n_rows)\n",
    "\n",
    "fig = plt.figure()\n",
    "fig.set_size_inches(width/height, 1, forward=False)\n",
    "ax = plt.Axes(fig, [0., 0., 1., 1.])\n",
    "ax.set_axis_off()\n",
    "fig.add_axes(ax)\n",
    "ax.imshow(vidstack[20], alpha=0.7)\n",
    "visualise_mesh(mesh_frame20_networkx_G_red, meantracks_r[:,20,[1,0]], ax, node_size=.2, node_color='r')\n",
    "ax.set_ylim([n_rows,0])\n",
    "ax.set_xlim([0,n_cols])\n",
    "fig.savefig('mesh_frame20_red.png', dpi=height)\n",
    "\n",
    "fig = plt.figure()\n",
    "fig.set_size_inches(width/height, 1, forward=False)\n",
    "ax = plt.Axes(fig, [0., 0., 1., 1.])\n",
    "ax.set_axis_off()\n",
    "fig.add_axes(ax)\n",
    "ax.imshow(vidstack[20], alpha=0.7)\n",
    "visualise_mesh(mesh_frame20_networkx_G_green, meantracks_g[:,20,[1,0]], ax, node_size=.2, node_color='g')\n",
    "ax.set_ylim([n_rows,0])\n",
    "ax.set_xlim([0,n_cols])\n",
    "fig.savefig('mesh_frame20_green.png', dpi=height)"
   ]
  },
  {
   "cell_type": "markdown",
   "metadata": {},
   "source": [
    "### MOSES Mesh Strain Curve\n",
    "From the local average strain of the MOSES mesh over time we can derive the corresponding MOSES mesh strain curve, (the curve obtained by averaging the strain over time) which we use in the paper as a motion signature for clustering."
   ]
  },
  {
   "cell_type": "code",
   "execution_count": null,
   "metadata": {
    "collapsed": true
   },
   "outputs": [],
   "source": [
    "\"\"\"\n",
    "6. Normalised mesh strain, computes the mesh strain curve for each colour and combines them to produce the normalised mesh strain for the video which is used as a motion signature.\n",
    "\"\"\"\n",
    "print 'Computing normalised MOSES Mesh strain curve...'\n",
    "mesh_strain_r = compute_MOSES_mesh_strain_curve(MOSES_mesh_strain_time_r, normalise=False)\n",
    "mesh_strain_g = compute_MOSES_mesh_strain_curve(MOSES_mesh_strain_time_g, normalise=False)\n",
    "\n",
    "mesh_strain_curve_video = .5*(mesh_strain_r+mesh_strain_g)\n",
    "normalised_mesh_strain_curve_video = mesh_strain_curve_video/ np.max(mesh_strain_curve_video)\n",
    "\n",
    "plt.figure()\n",
    "plt.plot(mesh_strain_r, 'r-', lw=2., label='red cells')\n",
    "plt.plot(mesh_strain_g, 'g-', lw=2., label='green cells')\n",
    "plt.xlabel('Frame Number')\n",
    "plt.ylabel('Mesh Strain')\n",
    "plt.legend(loc='best')\n",
    "plt.savefig('MOSES_mesh_strain_curve_red-green.png', dpi=80, bbox_inches='tight', pad_inches=0)\n",
    "plt.show()"
   ]
  },
  {
   "cell_type": "markdown",
   "metadata": {},
   "source": [
    "### Gap Closure Inference\n",
    "\n",
    "In wound healing type assays and two cell *in-vitro* migrating assays in general, the motion dynamics before and after the two epithelial cell populations meet can be different. It is useful to be extract the frame in which the populations close the initial gap."
   ]
  },
  {
   "cell_type": "code",
   "execution_count": null,
   "metadata": {
    "collapsed": true
   },
   "outputs": [],
   "source": [
    "\"\"\"\n",
    "7. Infer the gap closure frame, using image segmentation and plot the diagnostics. We can set the flag to False to suppress the plot.\n",
    "\"\"\"\n",
    "print 'Inferring the gap closure frame...'\n",
    "wound_closure_frame = wound_sweep_area_segmentation(vidstack, spixel_size, max_frame=50, n_sweeps=50, n_points_keep=1, n_clusters=2, p_als=0.001, to_plot=True)\n",
    "\n",
    "print 'predicted gap closure frame is: %d' %(wound_closure_frame)"
   ]
  },
  {
   "cell_type": "markdown",
   "metadata": {},
   "source": [
    "### Step 3: Computation of the Presented Metrics in the Paper\n",
    "\n",
    "    a) Boundary formation index\n",
    "    b) Motion Stability Index\n",
    "    c) Max. Velocity cross correlation Index\n",
    "    d) Spatial Correlation \n",
    "    e) Mesh Disorder Index"
   ]
  },
  {
   "cell_type": "code",
   "execution_count": null,
   "metadata": {
    "collapsed": true
   },
   "outputs": [],
   "source": [
    "#==============================================================================\n",
    "#     a) Boundary Formation Index.\n",
    "#==============================================================================\n",
    "\n",
    "# we first compute the motion saliency map.\n",
    "final_saliency_map_r, spatial_time_saliency_map_r = compute_motion_saliency_map(meantracks_r, dist_thresh=5.*spixel_size, shape=(n_rows, n_cols), filt=1, filt_size=spixel_size)\n",
    "final_saliency_map_g, spatial_time_saliency_map_g = compute_motion_saliency_map(meantracks_g, dist_thresh=5.*spixel_size, shape=(n_rows, n_cols), filt=1, filt_size=spixel_size)\n",
    "\n",
    "boundary_formation_index, av_saliency_map = compute_boundary_formation_index(final_saliency_map_r, final_saliency_map_g, spixel_size, pad_multiple=3)\n",
    "\n",
    "fig = plt.figure()\n",
    "plt.title('Boundary Formation Index %.3f' %(boundary_formation_index))\n",
    "plt.imshow(av_saliency_map, cmap='coolwarm')\n",
    "plt.axis('off')\n",
    "plt.grid('off')\n",
    "fig.savefig('av_saliency_map.png', dpi=80, bbox_inches='tight', pad_inches=0)\n",
    "plt.show()"
   ]
  },
  {
   "cell_type": "code",
   "execution_count": null,
   "metadata": {
    "collapsed": true
   },
   "outputs": [],
   "source": [
    "#==============================================================================\n",
    "#     b) Motion Stability Index.\n",
    "#==============================================================================\n",
    "\n",
    "# returns the combined normalised mesh strain curve.\n",
    "# the motion stability index uses an average over the last number of frame specified by the flag, last_frames. One should set this to approximately cover the plateau region of the strain curve. \n",
    "motion_stability_index, normalised_mesh_strain_curve = compute_MOSES_motion_stability_index(MOSES_mesh_strain_time_r, MOSES_mesh_strain_time_g, last_frames=5)\n",
    "\n",
    "print 'motion stability index: %.3f' %(motion_stability_index)"
   ]
  },
  {
   "cell_type": "code",
   "execution_count": null,
   "metadata": {
    "collapsed": true
   },
   "outputs": [],
   "source": [
    "#==============================================================================\n",
    "#     c) Max. Velocity Cross-Correlation Index\n",
    "#==============================================================================\n",
    "(max_vccf_before, _), (max_vccf_after, _) = compute_max_vccf_cells_before_after_gap(meantracks_r, meantracks_g, wound_heal_frame=wound_closure_frame, err_frame=5)\n",
    "\n",
    "print 'max velocity cross-correlation before: %.3f' %(max_vccf_before)\n",
    "print 'max velocity cross-correlation after: %.3f' %(max_vccf_after)"
   ]
  },
  {
   "cell_type": "code",
   "execution_count": null,
   "metadata": {
    "collapsed": true
   },
   "outputs": [],
   "source": [
    "#==============================================================================\n",
    "#     d) Spatial Correlation. \n",
    "#==============================================================================\n",
    "spatial_corr_curve, (spatial_corr_pred,  a_value, b_value, r_value) = compute_spatial_correlation_function(meantracks_r, wound_closure_frame, wound_heal_err=5, dist_range=np.arange(1,6,1))\n",
    "\n",
    "# plot the curve and the fitted curve to y=a*exp(-x/b) to get the (a,b) parameters. \n",
    "plt.figure()\n",
    "plt.title('Fitted Spatial Correlation: a=%.3f, b=%.3f' %(a_value, b_value))\n",
    "plt.plot(np.arange(1,6,1), spatial_corr_curve, 'ko', label='measured')\n",
    "plt.plot(np.arange(1,6,1), spatial_corr_pred, 'g-', label='fitted')\n",
    "plt.xlabel('Distance (Number of Superpixels)')\n",
    "plt.ylabel('Spatial Correlation')\n",
    "plt.legend(loc='best')\n",
    "plt.show()"
   ]
  },
  {
   "cell_type": "code",
   "execution_count": null,
   "metadata": {
    "collapsed": true
   },
   "outputs": [],
   "source": [
    "#==============================================================================\n",
    "#     e) Mesh Disorder Index + visualization, red ellipses show excluded regions. To suppress visualization use to_plot=True.\n",
    "#==============================================================================\n",
    "mesh_disorder_curve_r = compute_mesh_disorder(meantracks_r, MOSES_mesh_neighborlist_r, 2*4, to_plot=True, frame_plot=30) # if to_plot, displays the mesh with ellipses. red ellipses is excluded points due to high density as set by the threshold, blue ellipses is included in calculation.\n",
    "mesh_disorder_curve_g = compute_mesh_disorder(meantracks_g, MOSES_mesh_neighborlist_g, 2*4, to_plot=True, frame_plot=30)\n",
    "\n",
    "av_mesh_disorder_curve = .5*(mesh_disorder_curve_r+mesh_disorder_curve_g)\n",
    "mesh_disorder_index = compute_mesh_disorder_index(av_mesh_disorder_curve, wound_closure_frame) # mesh disorder index is just the median value before wound closure.\n",
    "\n",
    "plt.figure()\n",
    "plt.title('Mesh Disorder Index (before closure): %.3f' %(mesh_disorder_index))\n",
    "plt.plot(av_mesh_disorder_curve, label='mesh disorder curve')\n",
    "plt.plot(wound_closure_frame-1, av_mesh_disorder_curve[wound_closure_frame-1], 'ko', label='gap closure frame')\n",
    "plt.plot([wound_closure_frame-1, wound_closure_frame-1], [np.min(av_mesh_disorder_curve), av_mesh_disorder_curve[wound_closure_frame-1]], 'k--')\n",
    "plt.plot([0, wound_closure_frame-1], [av_mesh_disorder_curve[wound_closure_frame-1], av_mesh_disorder_curve[wound_closure_frame-1]], 'k--')\n",
    "plt.legend(loc='best')\n",
    "plt.xlabel('Frame Number')\n",
    "plt.ylabel('Mesh Disorder')\n",
    "\n",
    "print 'Mesh disorder index of video: %.3f' %(mesh_disorder_index)\n"
   ]
  }
 ],
 "metadata": {
  "anaconda-cloud": {},
  "kernelspec": {
   "display_name": "Python [default]",
   "language": "python",
   "name": "python2"
  },
  "language_info": {
   "codemirror_mode": {
    "name": "ipython",
    "version": 2
   },
   "file_extension": ".py",
   "mimetype": "text/x-python",
   "name": "python",
   "nbconvert_exporter": "python",
   "pygments_lexer": "ipython2",
   "version": "2.7.12"
  }
 },
 "nbformat": 4,
 "nbformat_minor": 1
}
